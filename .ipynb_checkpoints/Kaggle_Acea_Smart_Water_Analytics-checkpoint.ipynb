{
 "cells": [
  {
   "cell_type": "markdown",
   "metadata": {
    "colab_type": "text",
    "id": "view-in-github"
   },
   "source": [
    "<a href=\"https://colab.research.google.com/github/Gab314/python_projects/blob/main/Kaggle_Acea_Smart_Water_Analytics.ipynb\" target=\"_parent\"><img src=\"https://colab.research.google.com/assets/colab-badge.svg\" alt=\"Open In Colab\"/></a>"
   ]
  },
  {
   "cell_type": "code",
   "execution_count": null,
   "metadata": {
    "id": "g2VB2hX05s6t"
   },
   "outputs": [],
   "source": [
    "import pandas as pd\n",
    "def read_data(file):\n",
    "  data_prefix = 'https://raw.githubusercontent.com/pauloeddias/Kaggle-Acea-Smart-Water-Analytics/master/data/'\n",
    "  return pd.read_csv(data_prefix+file,error_bad_lines=False)"
   ]
  },
  {
   "cell_type": "code",
   "execution_count": null,
   "metadata": {
    "id": "1nVRMxam2x8C"
   },
   "outputs": [],
   "source": [
    "Aquifer_Auser = read_data('Aquifer_Auser.csv')\n",
    "Aquifer_Doganella = read_data('Aquifer_Doganella.csv')\n",
    "Aquifer_Luco = read_data('Aquifer_Luco.csv')\n",
    "Aquifer_Petrignano = read_data('Aquifer_Petrignano.csv')\n",
    "Lake_Bilancino = read_data('Lake_Bilancino.csv')\n",
    "River_Arno = read_data('River_Arno.csv')\n",
    "Water_Spring_Amiata = read_data('Water_Spring_Amiata.csv')\n",
    "Water_Spring_Lupa = read_data('Water_Spring_Lupa.csv')\n",
    "Water_Spring_Madonna_di_Canneto = read_data('Water_Spring_Madonna_di_Canneto.csv')"
   ]
  },
  {
   "cell_type": "code",
   "execution_count": 1,
   "metadata": {
    "colab": {
     "base_uri": "https://localhost:8080/"
    },
    "id": "68fJR0zAoUgv",
    "outputId": "b0b6cd98-7918-4945-b8d3-480a3a56ede4"
   },
   "outputs": [
    {
     "name": "stdout",
     "output_type": "stream",
     "text": [
      "Gabriel was here\n"
     ]
    }
   ],
   "source": [
    "print('Gabriel was here')"
   ]
  }
 ],
 "metadata": {
  "colab": {
   "collapsed_sections": [],
   "include_colab_link": true,
   "name": "Kaggle: Acea Smart Water Analytics.ipynb",
   "provenance": []
  },
  "kernelspec": {
   "display_name": "Python 3",
   "language": "python",
   "name": "python3"
  },
  "language_info": {
   "codemirror_mode": {
    "name": "ipython",
    "version": 3
   },
   "file_extension": ".py",
   "mimetype": "text/x-python",
   "name": "python",
   "nbconvert_exporter": "python",
   "pygments_lexer": "ipython3",
   "version": "3.7.3"
  }
 },
 "nbformat": 4,
 "nbformat_minor": 1
}
